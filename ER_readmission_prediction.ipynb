{
 "cells": [
  {
   "cell_type": "code",
   "execution_count": 1,
   "id": "6d390c73",
   "metadata": {},
   "outputs": [],
   "source": [
    "#The problem statement goes like this: \n",
    "#Create a machine learning model to predict the likelihood of a patient being admitted to the Emergency Room (ER) \n",
    "#within the next \"N\" days, using historical medical and patient data. \n",
    "#Keep the code as generic as possible\n",
    "#Dependent Variable : er_visit  \n",
    "#Expected Outcome: \n",
    "#1. Machine Learning \n",
    "#2. Explanations for predictions \n",
    "#3. Engineered Features [novel, creative and  expert level]\n",
    "#4. Documentation on data preparation and feature engineering steps. Please have the code snippet description in detail  followed by the code snippet.\n",
    "#5. Methodology\n",
    "# The data set used here is er_model_data.csv."
   ]
  },
  {
   "cell_type": "code",
   "execution_count": 21,
   "id": "8ea4dfee",
   "metadata": {},
   "outputs": [],
   "source": [
    "# Import necessary libraries\n",
    "import pandas as pd\n",
    "import numpy as np\n",
    "from sklearn.model_selection import train_test_split\n",
    "from sklearn.preprocessing import StandardScaler, LabelEncoder\n",
    "from sklearn.ensemble import RandomForestClassifier\n",
    "from sklearn.metrics import accuracy_score, classification_report\n"
   ]
  },
  {
   "cell_type": "code",
   "execution_count": 22,
   "id": "905da834",
   "metadata": {},
   "outputs": [],
   "source": [
    "# Step 1: Data Preparation and Exploration\n",
    "# Load the dataset\n",
    "data = pd.read_csv('er_model_data.csv')"
   ]
  },
  {
   "cell_type": "code",
   "execution_count": 23,
   "id": "ad557d78",
   "metadata": {},
   "outputs": [
    {
     "name": "stdout",
     "output_type": "stream",
     "text": [
      "   Unnamed: 0  patient_nbr             race  gender      age weight  \\\n",
      "0           0      8222157        Caucasian  Female   [0-10)    NaN   \n",
      "1           1     55629189        Caucasian  Female  [10-20)    NaN   \n",
      "2           2     86047875  AfricanAmerican  Female  [20-30)    NaN   \n",
      "3           3     82442376        Caucasian    Male  [30-40)    NaN   \n",
      "4           4     42519267        Caucasian    Male  [40-50)    NaN   \n",
      "\n",
      "   time_in_hospital payer_code         medical_specialty  num_lab_procedures  \\\n",
      "0                 1        NaN  Pediatrics-Endocrinology                  41   \n",
      "1                 3        NaN                       NaN                  59   \n",
      "2                 2        NaN                       NaN                  11   \n",
      "3                 2        NaN                       NaN                  44   \n",
      "4                 1        NaN                       NaN                  51   \n",
      "\n",
      "   ...  examide  citoglipton  insulin  glyburide-metformin  \\\n",
      "0  ...       No           No       No                   No   \n",
      "1  ...       No           No       Up                   No   \n",
      "2  ...       No           No       No                   No   \n",
      "3  ...       No           No       Up                   No   \n",
      "4  ...       No           No   Steady                   No   \n",
      "\n",
      "   glipizide-metformin glimepiride-pioglitazone metformin-rosiglitazone  \\\n",
      "0                   No                       No                      No   \n",
      "1                   No                       No                      No   \n",
      "2                   No                       No                      No   \n",
      "3                   No                       No                      No   \n",
      "4                   No                       No                      No   \n",
      "\n",
      "  metformin-pioglitazone  diabetesMed er_visit  \n",
      "0                     No           No        0  \n",
      "1                     No          Yes        1  \n",
      "2                     No          Yes        1  \n",
      "3                     No          Yes        1  \n",
      "4                     No          Yes        1  \n",
      "\n",
      "[5 rows x 46 columns]\n",
      "<class 'pandas.core.frame.DataFrame'>\n",
      "RangeIndex: 71518 entries, 0 to 71517\n",
      "Data columns (total 46 columns):\n",
      " #   Column                    Non-Null Count  Dtype \n",
      "---  ------                    --------------  ----- \n",
      " 0   Unnamed: 0                71518 non-null  int64 \n",
      " 1   patient_nbr               71518 non-null  int64 \n",
      " 2   race                      69640 non-null  object\n",
      " 3   gender                    71518 non-null  object\n",
      " 4   age                       71518 non-null  object\n",
      " 5   weight                    2847 non-null   object\n",
      " 6   time_in_hospital          71518 non-null  int64 \n",
      " 7   payer_code                41433 non-null  object\n",
      " 8   medical_specialty         36993 non-null  object\n",
      " 9   num_lab_procedures        71518 non-null  int64 \n",
      " 10  num_procedures            71518 non-null  int64 \n",
      " 11  num_medications           71518 non-null  int64 \n",
      " 12  number_outpatient         71518 non-null  int64 \n",
      " 13  number_emergency          71518 non-null  int64 \n",
      " 14  number_inpatient          71518 non-null  int64 \n",
      " 15  diag_1                    71501 non-null  object\n",
      " 16  diag_2                    71228 non-null  object\n",
      " 17  diag_3                    70372 non-null  object\n",
      " 18  number_diagnoses          71518 non-null  int64 \n",
      " 19  max_glu_serum             71518 non-null  object\n",
      " 20  A1Cresult                 71518 non-null  object\n",
      " 21  metformin                 71518 non-null  object\n",
      " 22  repaglinide               71518 non-null  object\n",
      " 23  nateglinide               71518 non-null  object\n",
      " 24  chlorpropamide            71518 non-null  object\n",
      " 25  glimepiride               71518 non-null  object\n",
      " 26  acetohexamide             71518 non-null  object\n",
      " 27  glipizide                 71518 non-null  object\n",
      " 28  glyburide                 71518 non-null  object\n",
      " 29  tolbutamide               71518 non-null  object\n",
      " 30  pioglitazone              71518 non-null  object\n",
      " 31  rosiglitazone             71518 non-null  object\n",
      " 32  acarbose                  71518 non-null  object\n",
      " 33  miglitol                  71518 non-null  object\n",
      " 34  troglitazone              71518 non-null  object\n",
      " 35  tolazamide                71518 non-null  object\n",
      " 36  examide                   71518 non-null  object\n",
      " 37  citoglipton               71518 non-null  object\n",
      " 38  insulin                   71518 non-null  object\n",
      " 39  glyburide-metformin       71518 non-null  object\n",
      " 40  glipizide-metformin       71518 non-null  object\n",
      " 41  glimepiride-pioglitazone  71518 non-null  object\n",
      " 42  metformin-rosiglitazone   71518 non-null  object\n",
      " 43  metformin-pioglitazone    71518 non-null  object\n",
      " 44  diabetesMed               71518 non-null  object\n",
      " 45  er_visit                  71518 non-null  int64 \n",
      "dtypes: int64(11), object(35)\n",
      "memory usage: 25.1+ MB\n",
      "None\n"
     ]
    }
   ],
   "source": [
    "# Explore the data\n",
    "print(data.head())\n",
    "print(data.info())\n",
    "\n"
   ]
  },
  {
   "cell_type": "code",
   "execution_count": 13,
   "id": "320c4d7c",
   "metadata": {},
   "outputs": [],
   "source": [
    "# Handle missing values and data preprocessing\n",
    "# For simplicity, let's fill missing values in numeric columns with their means\n",
    "numeric_cols = data.select_dtypes(include=['number']).columns\n",
    "data[numeric_cols] = data[numeric_cols].fillna(data[numeric_cols].mean())\n"
   ]
  },
  {
   "cell_type": "code",
   "execution_count": 25,
   "id": "ae12575a",
   "metadata": {},
   "outputs": [],
   "source": [
    "# Handle missing values and data preprocessing\n",
    "# For columns with missing values, fill with appropriate values (e.g., for categorical, use mode)\n",
    "data['race'].fillna(data['race'].mode()[0], inplace=True)\n",
    "data['weight'].fillna('Unknown', inplace=True)\n",
    "data['payer_code'].fillna(data['payer_code'].mode()[0], inplace=True)\n",
    "data['medical_specialty'].fillna('Unknown', inplace=True)\n",
    "data.fillna('Unknown', inplace=True)  # Fill remaining missing values with 'Unknown'\n"
   ]
  },
  {
   "cell_type": "code",
   "execution_count": 26,
   "id": "4e47517e",
   "metadata": {},
   "outputs": [],
   "source": [
    "# Encode categorical features\n",
    "categorical_cols = data.select_dtypes(include=['object']).columns\n",
    "label_encoders = {}\n",
    "for col in categorical_cols:\n",
    "    le = LabelEncoder()\n",
    "    data[col] = le.fit_transform(data[col])\n",
    "    label_encoders[col] = le\n"
   ]
  },
  {
   "cell_type": "code",
   "execution_count": 27,
   "id": "ce3bdd56",
   "metadata": {},
   "outputs": [],
   "source": [
    "# Step 2: Feature Engineering\n",
    "# No feature engineering in this example, but you can add custom features based on domain knowledge\n",
    "\n",
    "# Step 3: Machine Learning Model Building\n",
    "# Define the target variable and features\n",
    "X = data.drop('er_visit', axis=1)\n",
    "y = data['er_visit']"
   ]
  },
  {
   "cell_type": "code",
   "execution_count": 28,
   "id": "6fae4e1d",
   "metadata": {},
   "outputs": [],
   "source": [
    "# Split the data into training and testing sets\n",
    "X_train, X_test, y_train, y_test = train_test_split(X, y, test_size=0.2, random_state=42)\n"
   ]
  },
  {
   "cell_type": "code",
   "execution_count": 29,
   "id": "496cb4d1",
   "metadata": {},
   "outputs": [],
   "source": [
    "# Standardize features\n",
    "scaler = StandardScaler()\n",
    "X_train = scaler.fit_transform(X_train)\n",
    "X_test = scaler.transform(X_test)\n"
   ]
  },
  {
   "cell_type": "code",
   "execution_count": 30,
   "id": "c4cd6637",
   "metadata": {},
   "outputs": [
    {
     "data": {
      "text/html": [
       "<style>#sk-container-id-1 {color: black;background-color: white;}#sk-container-id-1 pre{padding: 0;}#sk-container-id-1 div.sk-toggleable {background-color: white;}#sk-container-id-1 label.sk-toggleable__label {cursor: pointer;display: block;width: 100%;margin-bottom: 0;padding: 0.3em;box-sizing: border-box;text-align: center;}#sk-container-id-1 label.sk-toggleable__label-arrow:before {content: \"▸\";float: left;margin-right: 0.25em;color: #696969;}#sk-container-id-1 label.sk-toggleable__label-arrow:hover:before {color: black;}#sk-container-id-1 div.sk-estimator:hover label.sk-toggleable__label-arrow:before {color: black;}#sk-container-id-1 div.sk-toggleable__content {max-height: 0;max-width: 0;overflow: hidden;text-align: left;background-color: #f0f8ff;}#sk-container-id-1 div.sk-toggleable__content pre {margin: 0.2em;color: black;border-radius: 0.25em;background-color: #f0f8ff;}#sk-container-id-1 input.sk-toggleable__control:checked~div.sk-toggleable__content {max-height: 200px;max-width: 100%;overflow: auto;}#sk-container-id-1 input.sk-toggleable__control:checked~label.sk-toggleable__label-arrow:before {content: \"▾\";}#sk-container-id-1 div.sk-estimator input.sk-toggleable__control:checked~label.sk-toggleable__label {background-color: #d4ebff;}#sk-container-id-1 div.sk-label input.sk-toggleable__control:checked~label.sk-toggleable__label {background-color: #d4ebff;}#sk-container-id-1 input.sk-hidden--visually {border: 0;clip: rect(1px 1px 1px 1px);clip: rect(1px, 1px, 1px, 1px);height: 1px;margin: -1px;overflow: hidden;padding: 0;position: absolute;width: 1px;}#sk-container-id-1 div.sk-estimator {font-family: monospace;background-color: #f0f8ff;border: 1px dotted black;border-radius: 0.25em;box-sizing: border-box;margin-bottom: 0.5em;}#sk-container-id-1 div.sk-estimator:hover {background-color: #d4ebff;}#sk-container-id-1 div.sk-parallel-item::after {content: \"\";width: 100%;border-bottom: 1px solid gray;flex-grow: 1;}#sk-container-id-1 div.sk-label:hover label.sk-toggleable__label {background-color: #d4ebff;}#sk-container-id-1 div.sk-serial::before {content: \"\";position: absolute;border-left: 1px solid gray;box-sizing: border-box;top: 0;bottom: 0;left: 50%;z-index: 0;}#sk-container-id-1 div.sk-serial {display: flex;flex-direction: column;align-items: center;background-color: white;padding-right: 0.2em;padding-left: 0.2em;position: relative;}#sk-container-id-1 div.sk-item {position: relative;z-index: 1;}#sk-container-id-1 div.sk-parallel {display: flex;align-items: stretch;justify-content: center;background-color: white;position: relative;}#sk-container-id-1 div.sk-item::before, #sk-container-id-1 div.sk-parallel-item::before {content: \"\";position: absolute;border-left: 1px solid gray;box-sizing: border-box;top: 0;bottom: 0;left: 50%;z-index: -1;}#sk-container-id-1 div.sk-parallel-item {display: flex;flex-direction: column;z-index: 1;position: relative;background-color: white;}#sk-container-id-1 div.sk-parallel-item:first-child::after {align-self: flex-end;width: 50%;}#sk-container-id-1 div.sk-parallel-item:last-child::after {align-self: flex-start;width: 50%;}#sk-container-id-1 div.sk-parallel-item:only-child::after {width: 0;}#sk-container-id-1 div.sk-dashed-wrapped {border: 1px dashed gray;margin: 0 0.4em 0.5em 0.4em;box-sizing: border-box;padding-bottom: 0.4em;background-color: white;}#sk-container-id-1 div.sk-label label {font-family: monospace;font-weight: bold;display: inline-block;line-height: 1.2em;}#sk-container-id-1 div.sk-label-container {text-align: center;}#sk-container-id-1 div.sk-container {/* jupyter's `normalize.less` sets `[hidden] { display: none; }` but bootstrap.min.css set `[hidden] { display: none !important; }` so we also need the `!important` here to be able to override the default hidden behavior on the sphinx rendered scikit-learn.org. See: https://github.com/scikit-learn/scikit-learn/issues/21755 */display: inline-block !important;position: relative;}#sk-container-id-1 div.sk-text-repr-fallback {display: none;}</style><div id=\"sk-container-id-1\" class=\"sk-top-container\"><div class=\"sk-text-repr-fallback\"><pre>RandomForestClassifier(random_state=42)</pre><b>In a Jupyter environment, please rerun this cell to show the HTML representation or trust the notebook. <br />On GitHub, the HTML representation is unable to render, please try loading this page with nbviewer.org.</b></div><div class=\"sk-container\" hidden><div class=\"sk-item\"><div class=\"sk-estimator sk-toggleable\"><input class=\"sk-toggleable__control sk-hidden--visually\" id=\"sk-estimator-id-1\" type=\"checkbox\" checked><label for=\"sk-estimator-id-1\" class=\"sk-toggleable__label sk-toggleable__label-arrow\">RandomForestClassifier</label><div class=\"sk-toggleable__content\"><pre>RandomForestClassifier(random_state=42)</pre></div></div></div></div></div>"
      ],
      "text/plain": [
       "RandomForestClassifier(random_state=42)"
      ]
     },
     "execution_count": 30,
     "metadata": {},
     "output_type": "execute_result"
    }
   ],
   "source": [
    "# Train a Random Forest Classifier\n",
    "clf = RandomForestClassifier(random_state=42)\n",
    "clf.fit(X_train, y_train)\n"
   ]
  },
  {
   "cell_type": "code",
   "execution_count": 31,
   "id": "7298fa79",
   "metadata": {},
   "outputs": [],
   "source": [
    "# Make predictions\n",
    "y_pred = clf.predict(X_test)\n"
   ]
  },
  {
   "cell_type": "code",
   "execution_count": 32,
   "id": "806f0280",
   "metadata": {},
   "outputs": [],
   "source": [
    "# Evaluate the model\n",
    "accuracy = accuracy_score(y_test, y_pred)\n",
    "report = classification_report(y_test, y_pred)\n"
   ]
  },
  {
   "cell_type": "code",
   "execution_count": 33,
   "id": "9a4cdf82",
   "metadata": {},
   "outputs": [
    {
     "name": "stdout",
     "output_type": "stream",
     "text": [
      "Accuracy: 0.7953719239373602\n",
      "Classification Report:\n",
      "              precision    recall  f1-score   support\n",
      "\n",
      "           0       0.80      0.76      0.78      6778\n",
      "           1       0.79      0.83      0.81      7526\n",
      "\n",
      "    accuracy                           0.80     14304\n",
      "   macro avg       0.80      0.79      0.79     14304\n",
      "weighted avg       0.80      0.80      0.79     14304\n",
      "\n"
     ]
    }
   ],
   "source": [
    "print(f'Accuracy: {accuracy}')\n",
    "print(f'Classification Report:\\n{report}')\n"
   ]
  },
  {
   "cell_type": "code",
   "execution_count": 34,
   "id": "48da8aff",
   "metadata": {},
   "outputs": [],
   "source": [
    "# Step 4: Feature Importance\n",
    "# Access feature importances from the trained model\n",
    "feature_importances = clf.feature_importances_\n"
   ]
  },
  {
   "cell_type": "code",
   "execution_count": 35,
   "id": "c04af575",
   "metadata": {},
   "outputs": [
    {
     "name": "stdout",
     "output_type": "stream",
     "text": [
      "Unnamed: 0: 0.09137537926171745\n",
      "patient_nbr: 0.08793565037641944\n",
      "race: 0.0161784585012174\n",
      "gender: 0.011191109513464215\n",
      "age: 0.03180819101344124\n",
      "weight: 0.006596718953585204\n",
      "time_in_hospital: 0.041648358146953786\n",
      "payer_code: 0.023313229851581532\n",
      "medical_specialty: 0.09191585469889559\n",
      "num_lab_procedures: 0.1109553492450161\n",
      "num_procedures: 0.06840349501166837\n",
      "num_medications: 0.060459173018790544\n",
      "number_outpatient: 0.012150871074280744\n",
      "number_emergency: 0.007831018168734556\n",
      "number_inpatient: 0.016964740512447948\n",
      "diag_1: 0.07824745860543028\n",
      "diag_2: 0.05467120114847738\n",
      "diag_3: 0.05209295083805356\n",
      "number_diagnoses: 0.03021955921202175\n",
      "max_glu_serum: 0.017181561286493056\n",
      "A1Cresult: 0.014250894802896773\n",
      "metformin: 0.009987050861105708\n",
      "repaglinide: 0.0018926877799047108\n",
      "nateglinide: 0.0010045224161878057\n",
      "chlorpropamide: 0.00011129352383393874\n",
      "glimepiride: 0.005176451659425608\n",
      "acetohexamide: 0.0\n",
      "glipizide: 0.008557619624711755\n",
      "glyburide: 0.007858637506543\n",
      "tolbutamide: 7.622748751512195e-05\n",
      "pioglitazone: 0.005336332394020248\n",
      "rosiglitazone: 0.005029739866853666\n",
      "acarbose: 0.0004571502931415725\n",
      "miglitol: 2.6671465351110987e-05\n",
      "troglitazone: 5.121711456785774e-06\n",
      "tolazamide: 8.095801491121576e-05\n",
      "examide: 0.0\n",
      "citoglipton: 0.0\n",
      "insulin: 0.020307679059473747\n",
      "glyburide-metformin: 0.000968159723882762\n",
      "glipizide-metformin: 4.0399949497249384e-05\n",
      "glimepiride-pioglitazone: 0.0\n",
      "metformin-rosiglitazone: 5.489602296245929e-08\n",
      "metformin-pioglitazone: 0.0\n",
      "diabetesMed: 0.007692018524574281\n"
     ]
    }
   ],
   "source": [
    "# Print feature importance scores for each feature\n",
    "for feature, importance in zip(X.columns, feature_importances):\n",
    "    print(f'{feature}: {importance}')\n"
   ]
  },
  {
   "cell_type": "code",
   "execution_count": null,
   "id": "16de5640",
   "metadata": {},
   "outputs": [],
   "source": []
  }
 ],
 "metadata": {
  "kernelspec": {
   "display_name": "Python 3 (ipykernel)",
   "language": "python",
   "name": "python3"
  },
  "language_info": {
   "codemirror_mode": {
    "name": "ipython",
    "version": 3
   },
   "file_extension": ".py",
   "mimetype": "text/x-python",
   "name": "python",
   "nbconvert_exporter": "python",
   "pygments_lexer": "ipython3",
   "version": "3.10.11"
  }
 },
 "nbformat": 4,
 "nbformat_minor": 5
}
